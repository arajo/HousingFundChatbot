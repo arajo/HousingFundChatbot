{
 "cells": [
  {
   "cell_type": "code",
   "execution_count": null,
   "id": "e4709805-853f-49b8-9341-28006bce7f71",
   "metadata": {
    "execution": {
     "iopub.execute_input": "2024-05-23T01:49:10.579816Z",
     "iopub.status.busy": "2024-05-23T01:49:10.579601Z",
     "iopub.status.idle": "2024-05-23T01:49:12.719283Z",
     "shell.execute_reply": "2024-05-23T01:49:12.718970Z",
     "shell.execute_reply.started": "2024-05-23T01:49:10.579795Z"
    }
   },
   "outputs": [],
   "source": [
    "import torch\n",
    "import pandas as pd\n",
    "import numpy as np\n",
    "\n",
    "from sentence_transformers import SentenceTransformer\n",
    "from pymilvus import connections, FieldSchema, CollectionSchema, DataType, Collection, utility\n",
    "from pymilvus import MilvusClient, DataType"
   ]
  },
  {
   "cell_type": "code",
   "execution_count": null,
   "id": "713c7e2d-c242-45fe-97b7-2da79f999e3b",
   "metadata": {
    "execution": {
     "iopub.execute_input": "2024-05-23T01:50:08.040626Z",
     "iopub.status.busy": "2024-05-23T01:50:08.040123Z",
     "iopub.status.idle": "2024-05-23T01:50:08.071079Z",
     "shell.execute_reply": "2024-05-23T01:50:08.070460Z",
     "shell.execute_reply.started": "2024-05-23T01:50:08.040594Z"
    }
   },
   "outputs": [],
   "source": [
    "# 1. Set up a Milvus client\n",
    "client = MilvusClient(\n",
    "    uri=\"http://localhost:19530\"\n",
    ")\n",
    "\n",
    "# 2. Create a collection in quick setup mode\n",
    "client.create_collection(\n",
    "    collection_name=\"quick_setup\",\n",
    "    dimension=5\n",
    ")"
   ]
  },
  {
   "cell_type": "markdown",
   "id": "4cd8a6bf-d44c-4755-8080-b9edc111c58a",
   "metadata": {},
   "source": [
    "In the above setup,\n",
    "- The primary and vector fields use their default names (<b>id</b> and <b>vector</b>)\n",
    "- The metric type is also set to its default value (<b>COSINE</b>)\n",
    "- The primary field accepts integers and does not automatically increments\n",
    "- A reserved JSON field named <b>$meta</b> is used to store non-schema-defiend fields and their values"
   ]
  },
  {
   "cell_type": "code",
   "execution_count": 7,
   "id": "33fc9ce4-cb2c-45d8-8e98-11fd787e0e17",
   "metadata": {
    "execution": {
     "iopub.execute_input": "2024-05-22T00:48:25.705730Z",
     "iopub.status.busy": "2024-05-22T00:48:25.704869Z",
     "iopub.status.idle": "2024-05-22T00:48:25.725367Z",
     "shell.execute_reply": "2024-05-22T00:48:25.724115Z",
     "shell.execute_reply.started": "2024-05-22T00:48:25.705678Z"
    }
   },
   "outputs": [],
   "source": [
    "# 4. Insert data into the collection\n",
    "# 4.1. Prepare data\n",
    "data=[\n",
    "    {\"id\": 0, \"vector\": [0.3580376395471989, -0.6023495712049978, 0.18414012509913835, -0.26286205330961354, 0.9029438446296592], \"color\": \"pink_8682\"},\n",
    "    {\"id\": 1, \"vector\": [0.19886812562848388, 0.06023560599112088, 0.6976963061752597, 0.2614474506242501, 0.838729485096104], \"color\": \"red_7025\"},\n",
    "    {\"id\": 2, \"vector\": [0.43742130801983836, -0.5597502546264526, 0.6457887650909682, 0.7894058910881185, 0.20785793220625592], \"color\": \"orange_6781\"},\n",
    "    {\"id\": 3, \"vector\": [0.3172005263489739, 0.9719044792798428, -0.36981146090600725, -0.4860894583077995, 0.95791889146345], \"color\": \"pink_9298\"},\n",
    "    {\"id\": 4, \"vector\": [0.4452349528804562, -0.8757026943054742, 0.8220779437047674, 0.46406290649483184, 0.30337481143159106], \"color\": \"red_4794\"},\n",
    "    {\"id\": 5, \"vector\": [0.985825131989184, -0.8144651566660419, 0.6299267002202009, 0.1206906911183383, -0.1446277761879955], \"color\": \"yellow_4222\"},\n",
    "    {\"id\": 6, \"vector\": [0.8371977790571115, -0.015764369584852833, -0.31062937026679327, -0.562666951622192, -0.8984947637863987], \"color\": \"red_9392\"},\n",
    "    {\"id\": 7, \"vector\": [-0.33445148015177995, -0.2567135004164067, 0.8987539745369246, 0.9402995886420709, 0.5378064918413052], \"color\": \"grey_8510\"},\n",
    "    {\"id\": 8, \"vector\": [0.39524717779832685, 0.4000257286739164, -0.5890507376891594, -0.8650502298996872, -0.6140360785406336], \"color\": \"white_9381\"},\n",
    "    {\"id\": 9, \"vector\": [0.5718280481994695, 0.24070317428066512, -0.3737913482606834, -0.06726932177492717, -0.6980531615588608], \"color\": \"purple_4976\"}\n",
    "]"
   ]
  },
  {
   "cell_type": "code",
   "execution_count": 8,
   "id": "dbb53d3c-829a-492c-ae7e-3072adbab673",
   "metadata": {
    "execution": {
     "iopub.execute_input": "2024-05-22T00:48:31.074599Z",
     "iopub.status.busy": "2024-05-22T00:48:31.074042Z",
     "iopub.status.idle": "2024-05-22T00:48:31.117900Z",
     "shell.execute_reply": "2024-05-22T00:48:31.117324Z",
     "shell.execute_reply.started": "2024-05-22T00:48:31.074567Z"
    }
   },
   "outputs": [],
   "source": [
    "# 4.2. Insert data\n",
    "res = client.insert(\n",
    "    collection_name=\"quick_setup\",\n",
    "    data=data\n",
    ")\n"
   ]
  },
  {
   "cell_type": "code",
   "execution_count": 9,
   "id": "daa0264e-4f2f-402b-99a4-baba82f5762d",
   "metadata": {
    "execution": {
     "iopub.execute_input": "2024-05-22T00:48:36.301763Z",
     "iopub.status.busy": "2024-05-22T00:48:36.301367Z",
     "iopub.status.idle": "2024-05-22T00:48:36.306546Z",
     "shell.execute_reply": "2024-05-22T00:48:36.305758Z",
     "shell.execute_reply.started": "2024-05-22T00:48:36.301735Z"
    }
   },
   "outputs": [
    {
     "name": "stdout",
     "output_type": "stream",
     "text": [
      "{'insert_count': 10, 'ids': [0, 1, 2, 3, 4, 5, 6, 7, 8, 9]}\n"
     ]
    }
   ],
   "source": [
    "print(res)"
   ]
  },
  {
   "cell_type": "code",
   "execution_count": 10,
   "id": "3055a3b7-5fa0-491c-bf63-fda0ebf3339f",
   "metadata": {
    "execution": {
     "iopub.execute_input": "2024-05-22T00:49:09.669829Z",
     "iopub.status.busy": "2024-05-22T00:49:09.669101Z",
     "iopub.status.idle": "2024-05-22T00:49:09.681673Z",
     "shell.execute_reply": "2024-05-22T00:49:09.679932Z",
     "shell.execute_reply.started": "2024-05-22T00:49:09.669793Z"
    }
   },
   "outputs": [],
   "source": [
    "# 6. Search with a single vector\n",
    "# 6.1. Prepare query vectors\n",
    "query_vectors = [\n",
    "    [0.041732933, 0.013779674, -0.027564144, -0.013061441, 0.009748648]\n",
    "]"
   ]
  },
  {
   "cell_type": "code",
   "execution_count": 17,
   "id": "a98a65ed-0921-4f88-a9ed-1693e73e7c80",
   "metadata": {
    "execution": {
     "iopub.execute_input": "2024-05-22T00:51:17.774924Z",
     "iopub.status.busy": "2024-05-22T00:51:17.773963Z",
     "iopub.status.idle": "2024-05-22T00:51:17.792762Z",
     "shell.execute_reply": "2024-05-22T00:51:17.791769Z",
     "shell.execute_reply.started": "2024-05-22T00:51:17.774869Z"
    }
   },
   "outputs": [],
   "source": [
    "# 6.2. Start search\n",
    "res = client.search(\n",
    "    collection_name=\"quick_setup\",     # target collection\n",
    "    data=query_vectors,                # query vectors\n",
    "    filter='$meta[\"color\"] like \"red%\"',      # filter\n",
    "    limit=3,                           # number of returned entities\n",
    ")"
   ]
  },
  {
   "cell_type": "code",
   "execution_count": 18,
   "id": "b8050289-73a7-4ae7-bfbc-161ce19c7b48",
   "metadata": {
    "execution": {
     "iopub.execute_input": "2024-05-22T00:51:18.268999Z",
     "iopub.status.busy": "2024-05-22T00:51:18.268280Z",
     "iopub.status.idle": "2024-05-22T00:51:18.284625Z",
     "shell.execute_reply": "2024-05-22T00:51:18.282259Z",
     "shell.execute_reply.started": "2024-05-22T00:51:18.268962Z"
    }
   },
   "outputs": [
    {
     "name": "stdout",
     "output_type": "stream",
     "text": [
      "[[{'id': 6, 'distance': 0.5555188655853271, 'entity': {}}, {'id': 1, 'distance': -0.08607686311006546, 'entity': {}}, {'id': 4, 'distance': -0.2536149024963379, 'entity': {}}]]\n"
     ]
    }
   ],
   "source": [
    "print(res)"
   ]
  },
  {
   "cell_type": "code",
   "execution_count": null,
   "id": "d5a469d4-2c13-4c2f-903b-69150300e40d",
   "metadata": {},
   "outputs": [],
   "source": [
    "# 15. Drop collection\n",
    "client.drop_collection(\n",
    "    collection_name=\"quick_setup\"\n",
    ")"
   ]
  },
  {
   "cell_type": "markdown",
   "id": "02754153-d8a6-4cdd-9739-6cd4b848b6f3",
   "metadata": {},
   "source": [
    "# Collections\n",
    "Collection은 전통적인 RDB(MySQL, MSSQL, ...)에서의 테이블과 비슷한 개념"
   ]
  },
  {
   "cell_type": "code",
   "execution_count": 29,
   "id": "cb1bde6f-ef47-4a02-9b83-27c04afdc2e1",
   "metadata": {
    "execution": {
     "iopub.execute_input": "2024-05-23T01:31:53.387914Z",
     "iopub.status.busy": "2024-05-23T01:31:53.386438Z",
     "iopub.status.idle": "2024-05-23T01:31:53.407430Z",
     "shell.execute_reply": "2024-05-23T01:31:53.406736Z",
     "shell.execute_reply.started": "2024-05-23T01:31:53.387834Z"
    }
   },
   "outputs": [
    {
     "name": "stdout",
     "output_type": "stream",
     "text": [
      "['quick_setup']\n"
     ]
    }
   ],
   "source": [
    "# 6. List all collection names\n",
    "res = client.list_collections()\n",
    "print(res)"
   ]
  },
  {
   "cell_type": "code",
   "execution_count": 30,
   "id": "d9220c05-9a98-4f69-9c0c-7c2480091ddc",
   "metadata": {
    "execution": {
     "iopub.execute_input": "2024-05-23T01:41:30.251991Z",
     "iopub.status.busy": "2024-05-23T01:41:30.251236Z",
     "iopub.status.idle": "2024-05-23T01:41:30.275355Z",
     "shell.execute_reply": "2024-05-23T01:41:30.273721Z",
     "shell.execute_reply.started": "2024-05-23T01:41:30.251953Z"
    }
   },
   "outputs": [
    {
     "name": "stdout",
     "output_type": "stream",
     "text": [
      "['vector']\n"
     ]
    }
   ],
   "source": [
    "res = client.list_indexes(\n",
    "    collection_name=\"quick_setup\"\n",
    ")\n",
    "print(res)"
   ]
  },
  {
   "cell_type": "code",
   "execution_count": 25,
   "id": "8cb6a07a-d48e-47be-971b-5b4d02dadc6c",
   "metadata": {
    "execution": {
     "iopub.execute_input": "2024-05-22T09:33:13.417912Z",
     "iopub.status.busy": "2024-05-22T09:33:13.416625Z",
     "iopub.status.idle": "2024-05-22T09:33:13.458585Z",
     "shell.execute_reply": "2024-05-22T09:33:13.458058Z",
     "shell.execute_reply.started": "2024-05-22T09:33:13.417834Z"
    }
   },
   "outputs": [],
   "source": [
    "# 7. Load the collection\n",
    "client.load_collection(\n",
    "    collection_name=\"quick_setup\",\n",
    "    replica_number=1 # Number of replicas to create on query nodes. Max value is 1 for Milvus Standalone, and no greater than `queryNode.replicas` for Milvus Cluster.\n",
    ")"
   ]
  },
  {
   "cell_type": "code",
   "execution_count": 26,
   "id": "9df8eccd-4b01-46a4-b995-91dc895daee0",
   "metadata": {
    "execution": {
     "iopub.execute_input": "2024-05-22T09:33:45.405393Z",
     "iopub.status.busy": "2024-05-22T09:33:45.403897Z",
     "iopub.status.idle": "2024-05-22T09:33:45.432232Z",
     "shell.execute_reply": "2024-05-22T09:33:45.428826Z",
     "shell.execute_reply.started": "2024-05-22T09:33:45.405319Z"
    }
   },
   "outputs": [
    {
     "name": "stdout",
     "output_type": "stream",
     "text": [
      "{'state': <LoadState: Loaded>}\n"
     ]
    }
   ],
   "source": [
    "res = client.get_load_state(\n",
    "    collection_name=\"quick_setup\"\n",
    ")\n",
    "print(res)"
   ]
  },
  {
   "cell_type": "markdown",
   "id": "6fb2f062-c7bb-406e-9cc5-46c147469ce1",
   "metadata": {},
   "source": [
    "# Database"
   ]
  },
  {
   "cell_type": "code",
   "execution_count": 19,
   "id": "5bb13b29-a407-4f87-9d6f-ba2872a1f6ab",
   "metadata": {
    "execution": {
     "iopub.execute_input": "2024-05-22T00:52:49.473063Z",
     "iopub.status.busy": "2024-05-22T00:52:49.472454Z",
     "iopub.status.idle": "2024-05-22T00:52:49.486224Z",
     "shell.execute_reply": "2024-05-22T00:52:49.485115Z",
     "shell.execute_reply.started": "2024-05-22T00:52:49.473028Z"
    }
   },
   "outputs": [],
   "source": [
    "from pymilvus import connections, db"
   ]
  },
  {
   "cell_type": "code",
   "execution_count": 21,
   "id": "c98364ce-ea65-433d-b5d7-8908c53ccd93",
   "metadata": {
    "execution": {
     "iopub.execute_input": "2024-05-22T00:53:27.422093Z",
     "iopub.status.busy": "2024-05-22T00:53:27.421349Z",
     "iopub.status.idle": "2024-05-22T00:53:27.447553Z",
     "shell.execute_reply": "2024-05-22T00:53:27.443353Z",
     "shell.execute_reply.started": "2024-05-22T00:53:27.422053Z"
    }
   },
   "outputs": [],
   "source": [
    "conn = connections.connect(host=\"127.0.0.1\", port=19530)"
   ]
  },
  {
   "cell_type": "code",
   "execution_count": 22,
   "id": "dd7264f1-8ebf-488e-a763-85031c166241",
   "metadata": {
    "execution": {
     "iopub.execute_input": "2024-05-22T00:53:27.895168Z",
     "iopub.status.busy": "2024-05-22T00:53:27.894328Z",
     "iopub.status.idle": "2024-05-22T00:53:27.923444Z",
     "shell.execute_reply": "2024-05-22T00:53:27.922809Z",
     "shell.execute_reply.started": "2024-05-22T00:53:27.895126Z"
    }
   },
   "outputs": [
    {
     "data": {
      "text/plain": [
       "['default']"
      ]
     },
     "execution_count": 22,
     "metadata": {},
     "output_type": "execute_result"
    }
   ],
   "source": [
    "db.list_database()"
   ]
  },
  {
   "cell_type": "code",
   "execution_count": 23,
   "id": "b7b95e0c-490d-4c91-9ea9-f37d2858e3f8",
   "metadata": {
    "execution": {
     "iopub.execute_input": "2024-05-22T02:28:04.791206Z",
     "iopub.status.busy": "2024-05-22T02:28:04.790350Z",
     "iopub.status.idle": "2024-05-22T02:28:04.806066Z",
     "shell.execute_reply": "2024-05-22T02:28:04.805212Z",
     "shell.execute_reply.started": "2024-05-22T02:28:04.791161Z"
    }
   },
   "outputs": [],
   "source": [
    "db.using_database('default')"
   ]
  },
  {
   "cell_type": "code",
   "execution_count": null,
   "id": "91da6cea-4ff0-4b60-88a1-ed39218a8ae4",
   "metadata": {},
   "outputs": [],
   "source": []
  }
 ],
 "metadata": {
  "kernelspec": {
   "display_name": "RAG",
   "language": "python",
   "name": "rag"
  },
  "language_info": {
   "codemirror_mode": {
    "name": "ipython",
    "version": 3
   },
   "file_extension": ".py",
   "mimetype": "text/x-python",
   "name": "python",
   "nbconvert_exporter": "python",
   "pygments_lexer": "ipython3",
   "version": "3.10.12"
  }
 },
 "nbformat": 4,
 "nbformat_minor": 5
}
